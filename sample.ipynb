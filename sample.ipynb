{
 "cells": [
  {
   "cell_type": "markdown",
   "id": "3279b8e4-d7f2-4a01-a50f-57f9b1d91a6d",
   "metadata": {
    "tags": []
   },
   "source": [
    "# Walkthru sample notebook"
   ]
  },
  {
   "cell_type": "markdown",
   "id": "76dc5258-88c4-468f-9aa3-17b6dd314e07",
   "metadata": {
    "tags": []
   },
   "source": [
    "Here is how I calculate `1+1`"
   ]
  },
  {
   "cell_type": "code",
   "execution_count": 1,
   "id": "e9c4b549-a469-451e-8999-e37c88a8645a",
   "metadata": {},
   "outputs": [
    {
     "data": {
      "text/plain": [
       "2"
      ]
     },
     "execution_count": 1,
     "metadata": {},
     "output_type": "execute_result"
    }
   ],
   "source": [
    "1+1"
   ]
  },
  {
   "cell_type": "code",
   "execution_count": 2,
   "id": "efc933c9-6771-4367-9d61-4277ec6ef246",
   "metadata": {},
   "outputs": [],
   "source": [
    "from numpy import *"
   ]
  },
  {
   "cell_type": "markdown",
   "id": "70d28d55-a8be-478b-8186-329ac8bbb88f",
   "metadata": {},
   "source": [
    "Here is how I calculate `sin`"
   ]
  },
  {
   "cell_type": "code",
   "execution_count": 5,
   "id": "64fb42fb-d78e-46ae-81ed-7aa610b57d3b",
   "metadata": {
    "tags": []
   },
   "outputs": [
    {
     "data": {
      "text/plain": [
       "array([0.84147098, 1.        ])"
      ]
     },
     "execution_count": 5,
     "metadata": {},
     "output_type": "execute_result"
    }
   ],
   "source": [
    "a = array([1.0, pi/2])\n",
    "sin(a)"
   ]
  }
 ],
 "metadata": {
  "kernelspec": {
   "display_name": "Python 3 (ipykernel)",
   "language": "python",
   "name": "python3"
  },
  "language_info": {
   "codemirror_mode": {
    "name": "ipython",
    "version": 3
   },
   "file_extension": ".py",
   "mimetype": "text/x-python",
   "name": "python",
   "nbconvert_exporter": "python",
   "pygments_lexer": "ipython3",
   "version": "3.10.8"
  }
 },
 "nbformat": 4,
 "nbformat_minor": 5
}
